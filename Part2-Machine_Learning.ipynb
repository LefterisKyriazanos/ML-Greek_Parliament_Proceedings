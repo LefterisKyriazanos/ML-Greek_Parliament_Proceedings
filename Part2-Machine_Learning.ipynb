{
 "cells": [
  {
   "cell_type": "code",
   "execution_count": 1,
   "metadata": {
    "id": "EjgbhDE5JITr"
   },
   "outputs": [],
   "source": [
    "import pandas as pd\n",
    "from sklearn import ensemble, preprocessing, feature_extraction, metrics\n",
    "from sklearn.model_selection import KFold\n",
    "from sklearn.model_selection import cross_val_score\n",
    "from sklearn.model_selection import train_test_split"
   ]
  },
  {
   "cell_type": "markdown",
   "metadata": {},
   "source": [
    "import the processed dataset "
   ]
  },
  {
   "cell_type": "code",
   "execution_count": 2,
   "metadata": {
    "colab": {
     "base_uri": "https://localhost:8080/",
     "height": 538
    },
    "id": "CTSOLInCK7Qf",
    "outputId": "d74310e1-a8e8-4674-94a8-4f69522b9385"
   },
   "outputs": [
    {
     "data": {
      "text/html": [
       "<div>\n",
       "<style scoped>\n",
       "    .dataframe tbody tr th:only-of-type {\n",
       "        vertical-align: middle;\n",
       "    }\n",
       "\n",
       "    .dataframe tbody tr th {\n",
       "        vertical-align: top;\n",
       "    }\n",
       "\n",
       "    .dataframe thead th {\n",
       "        text-align: right;\n",
       "    }\n",
       "</style>\n",
       "<table border=\"1\" class=\"dataframe\">\n",
       "  <thead>\n",
       "    <tr style=\"text-align: right;\">\n",
       "      <th></th>\n",
       "      <th>member_name</th>\n",
       "      <th>sitting_date</th>\n",
       "      <th>political_party</th>\n",
       "      <th>speaker_info</th>\n",
       "      <th>speech</th>\n",
       "      <th>speech_length</th>\n",
       "      <th>binned</th>\n",
       "    </tr>\n",
       "  </thead>\n",
       "  <tbody>\n",
       "    <tr>\n",
       "      <th>0</th>\n",
       "      <td>κρητικος νικολαου παναγιωτης</td>\n",
       "      <td>1989</td>\n",
       "      <td>πανελληνιο σοσιαλιστικο κινημα</td>\n",
       "      <td>προεδρευων</td>\n",
       "      <td>παρακαλείται γραμματέας βουλγαράκης αρχιεπίσκο...</td>\n",
       "      <td>43</td>\n",
       "      <td>(25, 100]</td>\n",
       "    </tr>\n",
       "    <tr>\n",
       "      <th>1</th>\n",
       "      <td>κρητικος νικολαου παναγιωτης</td>\n",
       "      <td>1989</td>\n",
       "      <td>πανελληνιο σοσιαλιστικο κινημα</td>\n",
       "      <td>προεδρευων</td>\n",
       "      <td>παρακαλείται κύριος γραμματέας ιερά σύνοδο αιθ...</td>\n",
       "      <td>81</td>\n",
       "      <td>(25, 100]</td>\n",
       "    </tr>\n",
       "    <tr>\n",
       "      <th>2</th>\n",
       "      <td>κρητικος νικολαου παναγιωτης</td>\n",
       "      <td>1989</td>\n",
       "      <td>πανελληνιο σοσιαλιστικο κινημα</td>\n",
       "      <td>προεδρευων</td>\n",
       "      <td>παρακαλώ βουλή εξουσιοδοτήσω προεδρείο επικύρω...</td>\n",
       "      <td>17</td>\n",
       "      <td>(10, 25]</td>\n",
       "    </tr>\n",
       "    <tr>\n",
       "      <th>3</th>\n",
       "      <td>κρητικος νικολαου παναγιωτης</td>\n",
       "      <td>1989</td>\n",
       "      <td>πανελληνιο σοσιαλιστικο κινημα</td>\n",
       "      <td>προεδρευων</td>\n",
       "      <td>βουλή παρέσχε ζητηθείσος εξουσιοδότηση συναίνε...</td>\n",
       "      <td>37</td>\n",
       "      <td>(25, 100]</td>\n",
       "    </tr>\n",
       "    <tr>\n",
       "      <th>4</th>\n",
       "      <td>κρητικος νικολαου παναγιωτης</td>\n",
       "      <td>1989</td>\n",
       "      <td>πανελληνιο σοσιαλιστικο κινημα</td>\n",
       "      <td>προεδρευων</td>\n",
       "      <td>εκ κυρίος συναδέλφα ψήφομαι κηρύσσομαι περαιωμ...</td>\n",
       "      <td>50</td>\n",
       "      <td>(25, 100]</td>\n",
       "    </tr>\n",
       "    <tr>\n",
       "      <th>...</th>\n",
       "      <td>...</td>\n",
       "      <td>...</td>\n",
       "      <td>...</td>\n",
       "      <td>...</td>\n",
       "      <td>...</td>\n",
       "      <td>...</td>\n",
       "      <td>...</td>\n",
       "    </tr>\n",
       "    <tr>\n",
       "      <th>500591</th>\n",
       "      <td>κακλαμανης μιχαηλ νικητας</td>\n",
       "      <td>2019</td>\n",
       "      <td>νεα δημοκρατια</td>\n",
       "      <td>προεδρευων</td>\n",
       "      <td>συζητώ ερώτηση υπάρξω ανοχή συντυχάκη</td>\n",
       "      <td>17</td>\n",
       "      <td>(10, 25]</td>\n",
       "    </tr>\n",
       "    <tr>\n",
       "      <th>500592</th>\n",
       "      <td>κακλαμανης μιχαηλ νικητας</td>\n",
       "      <td>2019</td>\n",
       "      <td>νεα δημοκρατια</td>\n",
       "      <td>προεδρευων</td>\n",
       "      <td>φύγω καταθέσω πρακτικά μπορέσω πάρω</td>\n",
       "      <td>16</td>\n",
       "      <td>(10, 25]</td>\n",
       "    </tr>\n",
       "    <tr>\n",
       "      <th>500593</th>\n",
       "      <td>συντυχακης δανιηλ εμμανουηλ</td>\n",
       "      <td>2019</td>\n",
       "      <td>κομμουνιστικο κομμα ελλαδας</td>\n",
       "      <td>NaN</td>\n",
       "      <td>καταστροφή προφανώς αποτέλεσμα καιρικός φαινομ...</td>\n",
       "      <td>681</td>\n",
       "      <td>(400, 1000]</td>\n",
       "    </tr>\n",
       "    <tr>\n",
       "      <th>500594</th>\n",
       "      <td>κακλαμανης μιχαηλ νικητας</td>\n",
       "      <td>2019</td>\n",
       "      <td>νεα δημοκρατια</td>\n",
       "      <td>προεδρευων</td>\n",
       "      <td>αρκώ κεντρικό κράτος δίνω χρήματα προβλέπω σύν...</td>\n",
       "      <td>101</td>\n",
       "      <td>(100, 400]</td>\n",
       "    </tr>\n",
       "    <tr>\n",
       "      <th>500595</th>\n",
       "      <td>κακλαμανης μιχαηλ νικητας</td>\n",
       "      <td>2019</td>\n",
       "      <td>νεα δημοκρατια</td>\n",
       "      <td>προεδρευων</td>\n",
       "      <td>συναίνεση σώμα ώρα λύομαι συνεδρίαση ημέρα δευ...</td>\n",
       "      <td>34</td>\n",
       "      <td>(25, 100]</td>\n",
       "    </tr>\n",
       "  </tbody>\n",
       "</table>\n",
       "<p>500596 rows × 7 columns</p>\n",
       "</div>"
      ],
      "text/plain": [
       "                         member_name  sitting_date  ... speech_length       binned\n",
       "0       κρητικος νικολαου παναγιωτης          1989  ...            43    (25, 100]\n",
       "1       κρητικος νικολαου παναγιωτης          1989  ...            81    (25, 100]\n",
       "2       κρητικος νικολαου παναγιωτης          1989  ...            17     (10, 25]\n",
       "3       κρητικος νικολαου παναγιωτης          1989  ...            37    (25, 100]\n",
       "4       κρητικος νικολαου παναγιωτης          1989  ...            50    (25, 100]\n",
       "...                              ...           ...  ...           ...          ...\n",
       "500591     κακλαμανης μιχαηλ νικητας          2019  ...            17     (10, 25]\n",
       "500592     κακλαμανης μιχαηλ νικητας          2019  ...            16     (10, 25]\n",
       "500593   συντυχακης δανιηλ εμμανουηλ          2019  ...           681  (400, 1000]\n",
       "500594     κακλαμανης μιχαηλ νικητας          2019  ...           101   (100, 400]\n",
       "500595     κακλαμανης μιχαηλ νικητας          2019  ...            34    (25, 100]\n",
       "\n",
       "[500596 rows x 7 columns]"
      ]
     },
     "execution_count": 2,
     "metadata": {
      "tags": []
     },
     "output_type": "execute_result"
    }
   ],
   "source": [
    "processed_speeches = pd.read_csv('/content/drive/MyDrive/Colab Notebooks/Processed_speeches.csv')\n",
    "processed_speeches['speech'] = processed_speeches['speech'].astype('str') \n",
    "processed_speeches"
   ]
  },
  {
   "cell_type": "code",
   "execution_count": null,
   "metadata": {
    "colab": {
     "base_uri": "https://localhost:8080/"
    },
    "id": "wdtE3yYpimy5",
    "outputId": "fba8e96c-a3e1-4dfd-a3e3-2b35c5291e7c"
   },
   "outputs": [
    {
     "data": {
      "text/plain": [
       "member_name        object\n",
       "sitting_date        int64\n",
       "political_party    object\n",
       "speaker_info       object\n",
       "speech             object\n",
       "speech_length       int64\n",
       "binned             object\n",
       "dtype: object"
      ]
     },
     "execution_count": 3,
     "metadata": {
      "tags": []
     },
     "output_type": "execute_result"
    }
   ],
   "source": [
    "processed_speeches.dtypes"
   ]
  },
  {
   "cell_type": "markdown",
   "metadata": {},
   "source": [
    "the dataset is very imbalanced. "
   ]
  },
  {
   "cell_type": "code",
   "execution_count": 3,
   "metadata": {
    "colab": {
     "base_uri": "https://localhost:8080/",
     "height": 576
    },
    "id": "uyLcr3GTu0uL",
    "outputId": "9da17024-48e4-4bd8-8103-050f10918aad"
   },
   "outputs": [
    {
     "data": {
      "text/html": [
       "<div>\n",
       "<style scoped>\n",
       "    .dataframe tbody tr th:only-of-type {\n",
       "        vertical-align: middle;\n",
       "    }\n",
       "\n",
       "    .dataframe tbody tr th {\n",
       "        vertical-align: top;\n",
       "    }\n",
       "\n",
       "    .dataframe thead th {\n",
       "        text-align: right;\n",
       "    }\n",
       "</style>\n",
       "<table border=\"1\" class=\"dataframe\">\n",
       "  <thead>\n",
       "    <tr style=\"text-align: right;\">\n",
       "      <th></th>\n",
       "      <th>unique_values</th>\n",
       "      <th>counts</th>\n",
       "    </tr>\n",
       "  </thead>\n",
       "  <tbody>\n",
       "    <tr>\n",
       "      <th>0</th>\n",
       "      <td>πανελληνιο σοσιαλιστικο κινημα</td>\n",
       "      <td>179384</td>\n",
       "    </tr>\n",
       "    <tr>\n",
       "      <th>1</th>\n",
       "      <td>νεα δημοκρατια</td>\n",
       "      <td>175572</td>\n",
       "    </tr>\n",
       "    <tr>\n",
       "      <th>2</th>\n",
       "      <td>συνασπισμος ριζοσπαστικης αριστερας</td>\n",
       "      <td>52341</td>\n",
       "    </tr>\n",
       "    <tr>\n",
       "      <th>3</th>\n",
       "      <td>κομμουνιστικο κομμα ελλαδας</td>\n",
       "      <td>25370</td>\n",
       "    </tr>\n",
       "    <tr>\n",
       "      <th>4</th>\n",
       "      <td>συνασπισμος της αριστερας των κινηματων και τη...</td>\n",
       "      <td>15975</td>\n",
       "    </tr>\n",
       "    <tr>\n",
       "      <th>5</th>\n",
       "      <td>ανεξαρτητοι (εκτος κομματος)</td>\n",
       "      <td>11190</td>\n",
       "    </tr>\n",
       "    <tr>\n",
       "      <th>6</th>\n",
       "      <td>λαικος ορθοδοξος συναγερμος</td>\n",
       "      <td>11077</td>\n",
       "    </tr>\n",
       "    <tr>\n",
       "      <th>7</th>\n",
       "      <td>δημοκρατικη συμπαραταξη (πανελληνιο σοσιαλιστι...</td>\n",
       "      <td>7594</td>\n",
       "    </tr>\n",
       "    <tr>\n",
       "      <th>8</th>\n",
       "      <td>ανεξαρτητοι ελληνες - πανος καμμενος</td>\n",
       "      <td>5271</td>\n",
       "    </tr>\n",
       "    <tr>\n",
       "      <th>9</th>\n",
       "      <td>λαικος συνδεσος - χρυση αυγη</td>\n",
       "      <td>3350</td>\n",
       "    </tr>\n",
       "    <tr>\n",
       "      <th>10</th>\n",
       "      <td>δημοκρατικο κοινωνικο κινημα</td>\n",
       "      <td>3159</td>\n",
       "    </tr>\n",
       "    <tr>\n",
       "      <th>11</th>\n",
       "      <td>ενωση κεντρωων</td>\n",
       "      <td>2818</td>\n",
       "    </tr>\n",
       "    <tr>\n",
       "      <th>12</th>\n",
       "      <td>δημοκρατικη αριστερα</td>\n",
       "      <td>1870</td>\n",
       "    </tr>\n",
       "    <tr>\n",
       "      <th>13</th>\n",
       "      <td>ανεξαρτητοι ελληνες εθνικη πατριωτικη δημοκρατ...</td>\n",
       "      <td>1870</td>\n",
       "    </tr>\n",
       "    <tr>\n",
       "      <th>14</th>\n",
       "      <td>το ποταμι</td>\n",
       "      <td>1774</td>\n",
       "    </tr>\n",
       "    <tr>\n",
       "      <th>15</th>\n",
       "      <td>πολιτικη ανοιξη</td>\n",
       "      <td>1272</td>\n",
       "    </tr>\n",
       "    <tr>\n",
       "      <th>16</th>\n",
       "      <td>ανεξαρτητοι δημοκρατικοι βουλευτες</td>\n",
       "      <td>709</td>\n",
       "    </tr>\n",
       "  </tbody>\n",
       "</table>\n",
       "</div>"
      ],
      "text/plain": [
       "                                        unique_values  counts\n",
       "0                      πανελληνιο σοσιαλιστικο κινημα  179384\n",
       "1                                      νεα δημοκρατια  175572\n",
       "2                 συνασπισμος ριζοσπαστικης αριστερας   52341\n",
       "3                         κομμουνιστικο κομμα ελλαδας   25370\n",
       "4   συνασπισμος της αριστερας των κινηματων και τη...   15975\n",
       "5                        ανεξαρτητοι (εκτος κομματος)   11190\n",
       "6                         λαικος ορθοδοξος συναγερμος   11077\n",
       "7   δημοκρατικη συμπαραταξη (πανελληνιο σοσιαλιστι...    7594\n",
       "8                ανεξαρτητοι ελληνες - πανος καμμενος    5271\n",
       "9                        λαικος συνδεσος - χρυση αυγη    3350\n",
       "10                       δημοκρατικο κοινωνικο κινημα    3159\n",
       "11                                     ενωση κεντρωων    2818\n",
       "12                               δημοκρατικη αριστερα    1870\n",
       "13  ανεξαρτητοι ελληνες εθνικη πατριωτικη δημοκρατ...    1870\n",
       "14                                          το ποταμι    1774\n",
       "15                                    πολιτικη ανοιξη    1272\n",
       "16                 ανεξαρτητοι δημοκρατικοι βουλευτες     709"
      ]
     },
     "execution_count": 3,
     "metadata": {
      "tags": []
     },
     "output_type": "execute_result"
    }
   ],
   "source": [
    "\n",
    "df = processed_speeches['political_party'].value_counts().rename_axis('unique_values').reset_index(name='counts')\n",
    "df"
   ]
  },
  {
   "cell_type": "code",
   "execution_count": 4,
   "metadata": {
    "id": "n128kXQDxUMR"
   },
   "outputs": [],
   "source": [
    "df.set_index('unique_values',inplace=True)"
   ]
  },
  {
   "cell_type": "code",
   "execution_count": null,
   "metadata": {
    "colab": {
     "base_uri": "https://localhost:8080/",
     "height": 607
    },
    "id": "QqkdhmfeyKMD",
    "outputId": "5fb76368-2bed-48f2-cd76-0c6ebc7dcb75"
   },
   "outputs": [
    {
     "data": {
      "text/html": [
       "<div>\n",
       "<style scoped>\n",
       "    .dataframe tbody tr th:only-of-type {\n",
       "        vertical-align: middle;\n",
       "    }\n",
       "\n",
       "    .dataframe tbody tr th {\n",
       "        vertical-align: top;\n",
       "    }\n",
       "\n",
       "    .dataframe thead th {\n",
       "        text-align: right;\n",
       "    }\n",
       "</style>\n",
       "<table border=\"1\" class=\"dataframe\">\n",
       "  <thead>\n",
       "    <tr style=\"text-align: right;\">\n",
       "      <th></th>\n",
       "      <th>counts</th>\n",
       "    </tr>\n",
       "    <tr>\n",
       "      <th>unique_values</th>\n",
       "      <th></th>\n",
       "    </tr>\n",
       "  </thead>\n",
       "  <tbody>\n",
       "    <tr>\n",
       "      <th>πανελληνιο σοσιαλιστικο κινημα</th>\n",
       "      <td>179384</td>\n",
       "    </tr>\n",
       "    <tr>\n",
       "      <th>νεα δημοκρατια</th>\n",
       "      <td>175572</td>\n",
       "    </tr>\n",
       "    <tr>\n",
       "      <th>συνασπισμος ριζοσπαστικης αριστερας</th>\n",
       "      <td>52341</td>\n",
       "    </tr>\n",
       "    <tr>\n",
       "      <th>κομμουνιστικο κομμα ελλαδας</th>\n",
       "      <td>25370</td>\n",
       "    </tr>\n",
       "    <tr>\n",
       "      <th>συνασπισμος της αριστερας των κινηματων και της οικολογιας</th>\n",
       "      <td>15975</td>\n",
       "    </tr>\n",
       "    <tr>\n",
       "      <th>ανεξαρτητοι (εκτος κομματος)</th>\n",
       "      <td>11190</td>\n",
       "    </tr>\n",
       "    <tr>\n",
       "      <th>λαικος ορθοδοξος συναγερμος</th>\n",
       "      <td>11077</td>\n",
       "    </tr>\n",
       "    <tr>\n",
       "      <th>δημοκρατικη συμπαραταξη (πανελληνιο σοσιαλιστικο κινημα - δημοκρατικη αριστερα)</th>\n",
       "      <td>7594</td>\n",
       "    </tr>\n",
       "    <tr>\n",
       "      <th>ανεξαρτητοι ελληνες - πανος καμμενος</th>\n",
       "      <td>5271</td>\n",
       "    </tr>\n",
       "    <tr>\n",
       "      <th>λαικος συνδεσος - χρυση αυγη</th>\n",
       "      <td>3350</td>\n",
       "    </tr>\n",
       "    <tr>\n",
       "      <th>δημοκρατικο κοινωνικο κινημα</th>\n",
       "      <td>3159</td>\n",
       "    </tr>\n",
       "    <tr>\n",
       "      <th>ενωση κεντρωων</th>\n",
       "      <td>2818</td>\n",
       "    </tr>\n",
       "    <tr>\n",
       "      <th>δημοκρατικη αριστερα</th>\n",
       "      <td>1870</td>\n",
       "    </tr>\n",
       "    <tr>\n",
       "      <th>ανεξαρτητοι ελληνες εθνικη πατριωτικη δημοκρατικη συμμαχια</th>\n",
       "      <td>1870</td>\n",
       "    </tr>\n",
       "    <tr>\n",
       "      <th>το ποταμι</th>\n",
       "      <td>1774</td>\n",
       "    </tr>\n",
       "    <tr>\n",
       "      <th>πολιτικη ανοιξη</th>\n",
       "      <td>1272</td>\n",
       "    </tr>\n",
       "    <tr>\n",
       "      <th>ανεξαρτητοι δημοκρατικοι βουλευτες</th>\n",
       "      <td>709</td>\n",
       "    </tr>\n",
       "  </tbody>\n",
       "</table>\n",
       "</div>"
      ],
      "text/plain": [
       "                                                    counts\n",
       "unique_values                                             \n",
       "πανελληνιο σοσιαλιστικο κινημα                      179384\n",
       "νεα δημοκρατια                                      175572\n",
       "συνασπισμος ριζοσπαστικης αριστερας                  52341\n",
       "κομμουνιστικο κομμα ελλαδας                          25370\n",
       "συνασπισμος της αριστερας των κινηματων και της...   15975\n",
       "ανεξαρτητοι (εκτος κομματος)                         11190\n",
       "λαικος ορθοδοξος συναγερμος                          11077\n",
       "δημοκρατικη συμπαραταξη (πανελληνιο σοσιαλιστικ...    7594\n",
       "ανεξαρτητοι ελληνες - πανος καμμενος                  5271\n",
       "λαικος συνδεσος - χρυση αυγη                          3350\n",
       "δημοκρατικο κοινωνικο κινημα                          3159\n",
       "ενωση κεντρωων                                        2818\n",
       "δημοκρατικη αριστερα                                  1870\n",
       "ανεξαρτητοι ελληνες εθνικη πατριωτικη δημοκρατι...    1870\n",
       "το ποταμι                                             1774\n",
       "πολιτικη ανοιξη                                       1272\n",
       "ανεξαρτητοι δημοκρατικοι βουλευτες                     709"
      ]
     },
     "execution_count": 11,
     "metadata": {
      "tags": []
     },
     "output_type": "execute_result"
    }
   ],
   "source": [
    "df"
   ]
  },
  {
   "cell_type": "markdown",
   "metadata": {},
   "source": [
    "drop once again the parties that have less than 1000 speeches"
   ]
  },
  {
   "cell_type": "code",
   "execution_count": 5,
   "metadata": {
    "id": "bQufNgowvBIp"
   },
   "outputs": [],
   "source": [
    "processed_speeches = processed_speeches[~((processed_speeches['political_party']=='ανεξαρτητοι δημοκρατικοι βουλευτες') | (processed_speeches['political_party']=='ανεξαρτητοι (εκτος κομματος)'))]"
   ]
  },
  {
   "cell_type": "markdown",
   "metadata": {},
   "source": [
    "create n samples for each of the underrepresented classes(n=30000 - Speeches_i). My goal is to have 30000 speeches per party."
   ]
  },
  {
   "cell_type": "code",
   "execution_count": 6,
   "metadata": {
    "colab": {
     "base_uri": "https://localhost:8080/"
    },
    "id": "u5rA5nrMZW8g",
    "outputId": "5eb6236a-4e60-4a20-c544-ec390e782346"
   },
   "outputs": [
    {
     "data": {
      "text/plain": [
       "πολιτικη ανοιξη                                                                    28728\n",
       "το ποταμι                                                                          28226\n",
       "ανεξαρτητοι ελληνες εθνικη πατριωτικη δημοκρατικη συμμαχια                         28130\n",
       "δημοκρατικη αριστερα                                                               28130\n",
       "ενωση κεντρωων                                                                     27182\n",
       "δημοκρατικο κοινωνικο κινημα                                                       26841\n",
       "λαικος συνδεσος - χρυση αυγη                                                       26650\n",
       "ανεξαρτητοι ελληνες - πανος καμμενος                                               24729\n",
       "δημοκρατικη συμπαραταξη (πανελληνιο σοσιαλιστικο κινημα - δημοκρατικη αριστερα)    22406\n",
       "λαικος ορθοδοξος συναγερμος                                                        18923\n",
       "συνασπισμος της αριστερας των κινηματων και της οικολογιας                         14025\n",
       "κομμουνιστικο κομμα ελλαδας                                                         4630\n",
       "Name: political_party, dtype: int64"
      ]
     },
     "execution_count": 6,
     "metadata": {
      "tags": []
     },
     "output_type": "execute_result"
    }
   ],
   "source": [
    "from sklearn.utils import resample\n",
    "\n",
    "df_majority = pd.DataFrame()\n",
    "parties = processed_speeches.political_party.unique().tolist()\n",
    "\n",
    "\n",
    "for party in parties:\n",
    "  if df.loc[party,'counts'] < 30000:\n",
    "    df_minority = processed_speeches[processed_speeches.political_party == party]\n",
    "    \n",
    "    # Upsample minority class\n",
    "    df_minority_upsampled = resample(df_minority, \n",
    "                                    replace=True,     # sample with replacement\n",
    "                                    n_samples=30000-df.loc[party,'counts'],    # to match majority class\n",
    "                                    random_state=123) # reproducible results\n",
    "    df_majority = pd.concat([df_majority, df_minority_upsampled])\n",
    "    \n",
    "# Display new class counts\n",
    "df_majority.political_party.value_counts()"
   ]
  },
  {
   "cell_type": "code",
   "execution_count": 7,
   "metadata": {
    "colab": {
     "base_uri": "https://localhost:8080/",
     "height": 589
    },
    "id": "w3WhhAMfyvOe",
    "outputId": "44beb6c8-a45d-4093-baec-c6d714bd7c90"
   },
   "outputs": [
    {
     "data": {
      "text/html": [
       "<div>\n",
       "<style scoped>\n",
       "    .dataframe tbody tr th:only-of-type {\n",
       "        vertical-align: middle;\n",
       "    }\n",
       "\n",
       "    .dataframe tbody tr th {\n",
       "        vertical-align: top;\n",
       "    }\n",
       "\n",
       "    .dataframe thead th {\n",
       "        text-align: right;\n",
       "    }\n",
       "</style>\n",
       "<table border=\"1\" class=\"dataframe\">\n",
       "  <thead>\n",
       "    <tr style=\"text-align: right;\">\n",
       "      <th></th>\n",
       "      <th>member_name</th>\n",
       "      <th>sitting_date</th>\n",
       "      <th>political_party</th>\n",
       "      <th>speaker_info</th>\n",
       "      <th>speech</th>\n",
       "      <th>speech_length</th>\n",
       "      <th>binned</th>\n",
       "    </tr>\n",
       "  </thead>\n",
       "  <tbody>\n",
       "    <tr>\n",
       "      <th>26354</th>\n",
       "      <td>δρεττακης γεωργιου εμμανουηλ</td>\n",
       "      <td>1991</td>\n",
       "      <td>συνασπισμος της αριστερας των κινηματων και τη...</td>\n",
       "      <td>προεδρευων</td>\n",
       "      <td>κύριος υπουργός ανέγνωσε προηγουμένως μπω τροπ...</td>\n",
       "      <td>126</td>\n",
       "      <td>(100, 400]</td>\n",
       "    </tr>\n",
       "    <tr>\n",
       "      <th>216538</th>\n",
       "      <td>κουβελης ευαγγελου φωτιος-φανουριος</td>\n",
       "      <td>2003</td>\n",
       "      <td>συνασπισμος της αριστερας των κινηματων και τη...</td>\n",
       "      <td>NaN</td>\n",
       "      <td>υφυπουργέ οφείλω και απόλυτα ειλικρινής ογα ερ...</td>\n",
       "      <td>303</td>\n",
       "      <td>(100, 400]</td>\n",
       "    </tr>\n",
       "    <tr>\n",
       "      <th>103769</th>\n",
       "      <td>κουναλακης εμμανουηλ πετρος</td>\n",
       "      <td>1997</td>\n",
       "      <td>συνασπισμος της αριστερας των κινηματων και τη...</td>\n",
       "      <td>NaN</td>\n",
       "      <td>μιλήσω επανάληψη άρθρο επιτροπή και τηλεγραφικ...</td>\n",
       "      <td>185</td>\n",
       "      <td>(100, 400]</td>\n",
       "    </tr>\n",
       "    <tr>\n",
       "      <th>9849</th>\n",
       "      <td>δρεττακης γεωργιου εμμανουηλ</td>\n",
       "      <td>1990</td>\n",
       "      <td>συνασπισμος της αριστερας των κινηματων και τη...</td>\n",
       "      <td>ε αντιπροεδρος της βουλης</td>\n",
       "      <td>απάντησή αντιλήφθηκα ό μηχανικούς τεχνικό προσ...</td>\n",
       "      <td>502</td>\n",
       "      <td>(400, 1000]</td>\n",
       "    </tr>\n",
       "    <tr>\n",
       "      <th>118639</th>\n",
       "      <td>κωνσταντοπουλος ανδρεα νικολαος</td>\n",
       "      <td>1997</td>\n",
       "      <td>συνασπισμος της αριστερας των κινηματων και τη...</td>\n",
       "      <td>προεδρος του συνασπισμου της αριστερας και της...</td>\n",
       "      <td>υποβάλλω παράκληση συζητήσω τροπολογίε νέος δη...</td>\n",
       "      <td>38</td>\n",
       "      <td>(25, 100]</td>\n",
       "    </tr>\n",
       "    <tr>\n",
       "      <th>...</th>\n",
       "      <td>...</td>\n",
       "      <td>...</td>\n",
       "      <td>...</td>\n",
       "      <td>...</td>\n",
       "      <td>...</td>\n",
       "      <td>...</td>\n",
       "      <td>...</td>\n",
       "    </tr>\n",
       "    <tr>\n",
       "      <th>500591</th>\n",
       "      <td>κακλαμανης μιχαηλ νικητας</td>\n",
       "      <td>2019</td>\n",
       "      <td>νεα δημοκρατια</td>\n",
       "      <td>προεδρευων</td>\n",
       "      <td>συζητώ ερώτηση υπάρξω ανοχή συντυχάκη</td>\n",
       "      <td>17</td>\n",
       "      <td>(10, 25]</td>\n",
       "    </tr>\n",
       "    <tr>\n",
       "      <th>500592</th>\n",
       "      <td>κακλαμανης μιχαηλ νικητας</td>\n",
       "      <td>2019</td>\n",
       "      <td>νεα δημοκρατια</td>\n",
       "      <td>προεδρευων</td>\n",
       "      <td>φύγω καταθέσω πρακτικά μπορέσω πάρω</td>\n",
       "      <td>16</td>\n",
       "      <td>(10, 25]</td>\n",
       "    </tr>\n",
       "    <tr>\n",
       "      <th>500593</th>\n",
       "      <td>συντυχακης δανιηλ εμμανουηλ</td>\n",
       "      <td>2019</td>\n",
       "      <td>κομμουνιστικο κομμα ελλαδας</td>\n",
       "      <td>NaN</td>\n",
       "      <td>καταστροφή προφανώς αποτέλεσμα καιρικός φαινομ...</td>\n",
       "      <td>681</td>\n",
       "      <td>(400, 1000]</td>\n",
       "    </tr>\n",
       "    <tr>\n",
       "      <th>500594</th>\n",
       "      <td>κακλαμανης μιχαηλ νικητας</td>\n",
       "      <td>2019</td>\n",
       "      <td>νεα δημοκρατια</td>\n",
       "      <td>προεδρευων</td>\n",
       "      <td>αρκώ κεντρικό κράτος δίνω χρήματα προβλέπω σύν...</td>\n",
       "      <td>101</td>\n",
       "      <td>(100, 400]</td>\n",
       "    </tr>\n",
       "    <tr>\n",
       "      <th>500595</th>\n",
       "      <td>κακλαμανης μιχαηλ νικητας</td>\n",
       "      <td>2019</td>\n",
       "      <td>νεα δημοκρατια</td>\n",
       "      <td>προεδρευων</td>\n",
       "      <td>συναίνεση σώμα ώρα λύομαι συνεδρίαση ημέρα δευ...</td>\n",
       "      <td>34</td>\n",
       "      <td>(25, 100]</td>\n",
       "    </tr>\n",
       "  </tbody>\n",
       "</table>\n",
       "<p>767297 rows × 7 columns</p>\n",
       "</div>"
      ],
      "text/plain": [
       "                                member_name  ...       binned\n",
       "26354          δρεττακης γεωργιου εμμανουηλ  ...   (100, 400]\n",
       "216538  κουβελης ευαγγελου φωτιος-φανουριος  ...   (100, 400]\n",
       "103769          κουναλακης εμμανουηλ πετρος  ...   (100, 400]\n",
       "9849           δρεττακης γεωργιου εμμανουηλ  ...  (400, 1000]\n",
       "118639      κωνσταντοπουλος ανδρεα νικολαος  ...    (25, 100]\n",
       "...                                     ...  ...          ...\n",
       "500591            κακλαμανης μιχαηλ νικητας  ...     (10, 25]\n",
       "500592            κακλαμανης μιχαηλ νικητας  ...     (10, 25]\n",
       "500593          συντυχακης δανιηλ εμμανουηλ  ...  (400, 1000]\n",
       "500594            κακλαμανης μιχαηλ νικητας  ...   (100, 400]\n",
       "500595            κακλαμανης μιχαηλ νικητας  ...    (25, 100]\n",
       "\n",
       "[767297 rows x 7 columns]"
      ]
     },
     "execution_count": 7,
     "metadata": {
      "tags": []
     },
     "output_type": "execute_result"
    }
   ],
   "source": [
    "upsampled = processed_speeches.copy()\n",
    "upsampled = pd.concat([df_majority, upsampled ])\n",
    "upsampled"
   ]
  },
  {
   "cell_type": "code",
   "execution_count": 11,
   "metadata": {
    "colab": {
     "base_uri": "https://localhost:8080/"
    },
    "id": "hzrl3Qiey__8",
    "outputId": "3062c96c-e9c2-4a90-fba2-78021807b24e"
   },
   "outputs": [
    {
     "data": {
      "text/plain": [
       "πανελληνιο σοσιαλιστικο κινημα                                                     179384\n",
       "νεα δημοκρατια                                                                     175572\n",
       "συνασπισμος ριζοσπαστικης αριστερας                                                 52341\n",
       "κομμουνιστικο κομμα ελλαδας                                                         30000\n",
       "πολιτικη ανοιξη                                                                     30000\n",
       "λαικος ορθοδοξος συναγερμος                                                         30000\n",
       "δημοκρατικο κοινωνικο κινημα                                                        30000\n",
       "ενωση κεντρωων                                                                      30000\n",
       "το ποταμι                                                                           30000\n",
       "δημοκρατικη συμπαραταξη (πανελληνιο σοσιαλιστικο κινημα - δημοκρατικη αριστερα)     30000\n",
       "συνασπισμος της αριστερας των κινηματων και της οικολογιας                          30000\n",
       "δημοκρατικη αριστερα                                                                30000\n",
       "ανεξαρτητοι ελληνες - πανος καμμενος                                                30000\n",
       "λαικος συνδεσος - χρυση αυγη                                                        30000\n",
       "ανεξαρτητοι ελληνες εθνικη πατριωτικη δημοκρατικη συμμαχια                          30000\n",
       "Name: political_party, dtype: int64"
      ]
     },
     "execution_count": 11,
     "metadata": {
      "tags": []
     },
     "output_type": "execute_result"
    }
   ],
   "source": [
    "upsampled.political_party.value_counts()"
   ]
  },
  {
   "cell_type": "markdown",
   "metadata": {},
   "source": [
    "code below keeps only 30000 speeches for the 3 most \"popular\" parties"
   ]
  },
  {
   "cell_type": "code",
   "execution_count": 8,
   "metadata": {
    "id": "9jpSFibcTY2r"
   },
   "outputs": [],
   "source": [
    "nea_d = upsampled[upsampled.political_party == \"νεα δημοκρατια\"].sample(frac = 30000/175572)\n",
    "pasok = upsampled[upsampled.political_party == \"πανελληνιο σοσιαλιστικο κινημα\"].sample(frac = 30000/179384)\n",
    "suriza = upsampled[upsampled.political_party == \"συνασπισμος ριζοσπαστικης αριστερας\"].sample(frac = 30000/52341)\n",
    "upsampled = upsampled [(upsampled.political_party != 'νεα δημοκρατια') & (upsampled.political_party != 'πανελληνιο σοσιαλιστικο κινημα') & ( upsampled.political_party != 'συνασπισμος ριζοσπαστικης αριστερας' )]\n",
    "upsampled = pd.concat([upsampled, nea_d,pasok,suriza])\n",
    "upsampled = upsampled.sample(frac=1)\n",
    "upsampled.reset_index(inplace=True,drop=True)\n"
   ]
  },
  {
   "cell_type": "code",
   "execution_count": null,
   "metadata": {},
   "outputs": [],
   "source": [
    "upsampled.political_party.value_counts()"
   ]
  },
  {
   "cell_type": "markdown",
   "metadata": {},
   "source": [
    "import the necessary libraries and start modeling "
   ]
  },
  {
   "cell_type": "code",
   "execution_count": 9,
   "metadata": {
    "colab": {
     "base_uri": "https://localhost:8080/"
    },
    "id": "CoFK1EEqYMsA",
    "outputId": "374791f4-6e55-42cd-c708-7e3b32dcd025"
   },
   "outputs": [
    {
     "name": "stderr",
     "output_type": "stream",
     "text": [
      "/usr/local/lib/python3.6/dist-packages/sklearn/utils/deprecation.py:144: FutureWarning: The sklearn.ensemble.forest module is  deprecated in version 0.22 and will be removed in version 0.24. The corresponding classes / functions should instead be imported from sklearn.ensemble. Anything that cannot be imported from sklearn.ensemble is now part of the private API.\n",
      "  warnings.warn(message, FutureWarning)\n"
     ]
    }
   ],
   "source": [
    "from sklearn.ensemble.forest import RandomForestClassifier\n",
    "from sklearn.feature_extraction.text import TfidfTransformer\n",
    "from sklearn.feature_extraction.text import CountVectorizer\n",
    "from sklearn.metrics import classification_report, confusion_matrix, accuracy_score\n",
    "from sklearn.model_selection import train_test_split"
   ]
  },
  {
   "cell_type": "markdown",
   "metadata": {},
   "source": [
    "The models that are shown below are the ones that provided the best results after experimenting with different parameter values"
   ]
  },
  {
   "cell_type": "markdown",
   "metadata": {},
   "source": [
    "Model no1 - Random Forest with 100 estimators(default) and max depth = 50 "
   ]
  },
  {
   "cell_type": "code",
   "execution_count": 10,
   "metadata": {
    "colab": {
     "base_uri": "https://localhost:8080/"
    },
    "id": "FTBYkKx_zacT",
    "outputId": "30fc2372-056b-4d9d-a2e1-2f6289917095"
   },
   "outputs": [
    {
     "name": "stdout",
     "output_type": "stream",
     "text": [
      "[[8329    9    0   45    3  177   12   33   21  204  125    9   95  118\n",
      "    25]\n",
      " [ 108 8530    0    3    4   97    0   12    0  116  103    0    8   38\n",
      "    28]\n",
      " [ 107    7 8504    5    0    1    5    0    6  148  110   17   11   86\n",
      "     9]\n",
      " [ 466   21    0 7037   19  166   45   19   42  297  229   20  214  261\n",
      "    30]\n",
      " [  80    4    0   10 8047   34    5    9   16  247  233   20    0  178\n",
      "     9]\n",
      " [ 346   15    0    7    0 8284    4    4   21  206   65    6   69   54\n",
      "    41]\n",
      " [ 606   52    2  224   81  314 4650  288   70  580  543   50  344 1057\n",
      "    40]\n",
      " [ 494   15    0   75   42  232  182 6594   91  404  318   41  210  258\n",
      "    58]\n",
      " [ 279   18    0   18   10   44   15   12 7784  277  230   29   16  114\n",
      "    21]\n",
      " [ 857   35    7  205  117  288  839  348  132 1806 1550  107  685 1937\n",
      "    33]\n",
      " [ 635   24    6  101  134  220  944  356   88 1325 2437  121  557 1887\n",
      "    28]\n",
      " [  51    0    0    0    0   11    0    0    0   18   74 8872   15    9\n",
      "     0]\n",
      " [1025   60   19  430   47  569 1234  552  216  888  922   57 2070  902\n",
      "    68]\n",
      " [ 255    9    2   31   66   82  421   19   22  573  554   90   99 6835\n",
      "     8]\n",
      " [ 537    7    0    8    0   42    0    0    0  164   47   13  180   62\n",
      "  8026]]\n",
      "                                                                                 precision    recall  f1-score   support\n",
      "\n",
      "                                           ανεξαρτητοι ελληνες - πανος καμμενος       0.59      0.90      0.71      9205\n",
      "                     ανεξαρτητοι ελληνες εθνικη πατριωτικη δημοκρατικη συμμαχια       0.97      0.94      0.96      9047\n",
      "                                                           δημοκρατικη αριστερα       1.00      0.94      0.97      9016\n",
      "δημοκρατικη συμπαραταξη (πανελληνιο σοσιαλιστικο κινημα - δημοκρατικη αριστερα)       0.86      0.79      0.82      8866\n",
      "                                                   δημοκρατικο κοινωνικο κινημα       0.94      0.90      0.92      8892\n",
      "                                                                 ενωση κεντρωων       0.78      0.91      0.84      9122\n",
      "                                                    κομμουνιστικο κομμα ελλαδας       0.56      0.52      0.54      8901\n",
      "                                                    λαικος ορθοδοξος συναγερμος       0.80      0.73      0.76      9014\n",
      "                                                   λαικος συνδεσος - χρυση αυγη       0.91      0.88      0.90      8867\n",
      "                                                                 νεα δημοκρατια       0.25      0.20      0.22      8946\n",
      "                                                 πανελληνιο σοσιαλιστικο κινημα       0.32      0.27      0.30      8863\n",
      "                                                                πολιτικη ανοιξη       0.94      0.98      0.96      9050\n",
      "                                            συνασπισμος ριζοσπαστικης αριστερας       0.45      0.23      0.30      9059\n",
      "                     συνασπισμος της αριστερας των κινηματων και της οικολογιας       0.50      0.75      0.60      9066\n",
      "                                                                      το ποταμι       0.95      0.88      0.92      9086\n",
      "\n",
      "                                                                       accuracy                           0.72    135000\n",
      "                                                                      macro avg       0.72      0.72      0.71    135000\n",
      "                                                                   weighted avg       0.72      0.72      0.72    135000\n",
      "\n",
      "0.7244814814814815\n"
     ]
    }
   ],
   "source": [
    "\n",
    "\n",
    "\n",
    "\n",
    "X = upsampled['speech']\n",
    "y =  upsampled['political_party']\n",
    "xtrain,xtest,ytrain,ytest=train_test_split(X, y,test_size=0.30,random_state=123)\n",
    "cv1 = CountVectorizer(lowercase=False)\n",
    "x_train_cv1 = cv1.fit_transform(xtrain)\n",
    "x_test_cv1 = cv1.transform(xtest) \n",
    "\n",
    "\n",
    "\n",
    "cv = TfidfTransformer()\n",
    "x_train_cv2 = cv.fit_transform(x_train_cv1)\n",
    "model=RandomForestClassifier(max_depth=50,min_samples_split=4,n_jobs=-1,criterion='entropy')\n",
    "mod = model.fit(x_train_cv2, ytrain),\n",
    "\n",
    "\n",
    "x_test_cv2 = cv.transform(x_test_cv1) \n",
    "\n",
    "\n",
    "\n",
    "y_pred = model.predict(x_test_cv2)\n",
    "\n",
    "print(confusion_matrix(ytest,y_pred))\n",
    "print(classification_report(ytest,y_pred))\n",
    "print(accuracy_score(ytest, y_pred))\n",
    "\n",
    "\n",
    "\n"
   ]
  },
  {
   "cell_type": "markdown",
   "metadata": {},
   "source": [
    " Model no2 SVM Classifier was a failure. It just kept running and running.."
   ]
  },
  {
   "cell_type": "code",
   "execution_count": 11,
   "metadata": {
    "colab": {
     "base_uri": "https://localhost:8080/"
    },
    "id": "Tpz2clxuTcz0",
    "outputId": "a8055b70-4afa-4ffa-e25a-5fe5d875dff6"
   },
   "outputs": [
    {
     "data": {
      "text/plain": [
       "array([4, 5, 5, ..., 7, 3, 5])"
      ]
     },
     "execution_count": 11,
     "metadata": {
      "tags": []
     },
     "output_type": "execute_result"
    }
   ],
   "source": [
    "from sklearn import svm\n",
    "from sklearn import preprocessing\n",
    "from sklearn.feature_extraction.text import TfidfVectorizer\n",
    "X = upsampled['speech']\n",
    "y =  upsampled['political_party']\n",
    "Train_X, Test_X, Train_Y, Test_Y = train_test_split(X,y,test_size=0.2)\n",
    "Encoder = preprocessing.LabelEncoder()\n",
    "Train_Y = Encoder.fit_transform(Train_Y)\n",
    "Test_Y = Encoder.fit_transform(Test_Y)\n",
    "Test_Y"
   ]
  },
  {
   "cell_type": "code",
   "execution_count": 12,
   "metadata": {
    "id": "rzlK6rCDYsiB"
   },
   "outputs": [],
   "source": [
    "cv1 = CountVectorizer(lowercase=False)\n",
    "x_train_cv1 = cv1.fit_transform(Train_X)\n",
    "x_test_cv1 = cv1.transform(Test_X) \n",
    "\n",
    "\n",
    "\n",
    "cv = TfidfTransformer()\n",
    "x_train_cv2 = cv.fit_transform(x_train_cv1)"
   ]
  },
  {
   "cell_type": "markdown",
   "metadata": {},
   "source": [
    "Model no3 - Multinomial NB "
   ]
  },
  {
   "cell_type": "code",
   "execution_count": 35,
   "metadata": {
    "id": "eDEsmIfr9Ppi"
   },
   "outputs": [],
   "source": [
    "from sklearn.naive_bayes import MultinomialNB\n"
   ]
  },
  {
   "cell_type": "code",
   "execution_count": 36,
   "metadata": {
    "id": "4oNWv3Zd7c0w"
   },
   "outputs": [],
   "source": [
    "mNB = MultinomialNB()"
   ]
  },
  {
   "cell_type": "code",
   "execution_count": 37,
   "metadata": {
    "id": "NjsY77SF7c_3"
   },
   "outputs": [],
   "source": [
    "model = mNB.fit(x_train_cv2,Train_Y)"
   ]
  },
  {
   "cell_type": "code",
   "execution_count": 28,
   "metadata": {
    "colab": {
     "base_uri": "https://localhost:8080/"
    },
    "id": "3Ulvdt5mhlGT",
    "outputId": "e48c158b-9ede-43bf-f714-4fe6121fa6d1"
   },
   "outputs": [
    {
     "name": "stdout",
     "output_type": "stream",
     "text": [
      "[[4912    8  490   15   13   37   39   84  350   23   15    6   53    7\n",
      "     7]\n",
      " [2347 2129  337   70    0  844    4    2  161    9   26   13   25    3\n",
      "     0]\n",
      " [1282   12 3545  167   12  103   61   88   33   96  119   11  286  129\n",
      "    42]\n",
      " [2815   23  709 1397   20  538   42   33  203   34   32   16   56   28\n",
      "    17]\n",
      " [1840   16   97   36 3083   97   53   18   17  221  207  156   17  237\n",
      "     4]\n",
      " [2327   23  424   65    0 2708   30    5  336   12    9    2   27   11\n",
      "    10]\n",
      " [2532    5  445   85  140  248 1674  101   96   78  115   57   53  335\n",
      "    17]\n",
      " [2894   20  591   26    8  188   47 1320  440  105   60   13   30   45\n",
      "     7]\n",
      " [2178   54  220   87    0  314   43   76 2957   57   19   10   44   11\n",
      "    23]\n",
      " [3201   17  705   73  207  155  118  122  132  641  246  100   56  301\n",
      "     9]\n",
      " [3011   15  759   50  152  116  127  119  101  334  737   98   72  279\n",
      "     3]\n",
      " [2145    0  227    6   45   31   11    4   30    7   26 3348    0   21\n",
      "     0]\n",
      " [3152   41 1023  213   23  444  173   97  209   98  105   13  395   74\n",
      "    20]\n",
      " [2527    3  677   17  206   96  188    9   53  231  152  148   14 1744\n",
      "     0]\n",
      " [2790   13  657  179    0  549    8    3  120   24    7   34    6    4\n",
      "  1570]]\n",
      "              precision    recall  f1-score   support\n",
      "\n",
      "           0       0.12      0.81      0.21      6059\n",
      "           1       0.89      0.36      0.51      5970\n",
      "           2       0.33      0.59      0.42      5986\n",
      "           3       0.56      0.23      0.33      5963\n",
      "           4       0.79      0.51      0.62      6099\n",
      "           5       0.42      0.45      0.43      5989\n",
      "           6       0.64      0.28      0.39      5981\n",
      "           7       0.63      0.23      0.34      5794\n",
      "           8       0.56      0.49      0.52      6093\n",
      "           9       0.33      0.11      0.16      6083\n",
      "          10       0.39      0.12      0.19      5973\n",
      "          11       0.83      0.57      0.67      5901\n",
      "          12       0.35      0.06      0.11      6080\n",
      "          13       0.54      0.29      0.38      6065\n",
      "          14       0.91      0.26      0.41      5964\n",
      "\n",
      "    accuracy                           0.36     90000\n",
      "   macro avg       0.55      0.36      0.38     90000\n",
      "weighted avg       0.55      0.36      0.38     90000\n",
      "\n",
      "0.35733333333333334\n"
     ]
    }
   ],
   "source": [
    "\n",
    "x_test_cv2 = cv.transform(x_test_cv1) \n",
    "\n",
    "\n",
    "\n",
    "y_pred = model.predict(x_test_cv1)\n",
    "print(confusion_matrix(Test_Y,y_pred))\n",
    "print(classification_report(Test_Y,y_pred))\n",
    "print(accuracy_score(Test_Y, y_pred))"
   ]
  },
  {
   "cell_type": "markdown",
   "metadata": {},
   "source": [
    "Model no4 - SGD Classifier "
   ]
  },
  {
   "cell_type": "code",
   "execution_count": 17,
   "metadata": {
    "id": "-DpMwy6RKerE"
   },
   "outputs": [],
   "source": [
    " from sklearn.linear_model import SGDClassifier"
   ]
  },
  {
   "cell_type": "code",
   "execution_count": 18,
   "metadata": {
    "id": "_jsFh-UuKe27"
   },
   "outputs": [],
   "source": [
    " clf = SGDClassifier( loss=\"modified_huber\", penalty=\"l2\",)"
   ]
  },
  {
   "cell_type": "code",
   "execution_count": 19,
   "metadata": {
    "id": "qGZpA8okU6sq"
   },
   "outputs": [],
   "source": [
    "model =  clf.fit(x_train_cv2,Train_Y)"
   ]
  },
  {
   "cell_type": "code",
   "execution_count": 20,
   "metadata": {
    "colab": {
     "base_uri": "https://localhost:8080/"
    },
    "id": "OYQ-uRRLVIVb",
    "outputId": "2aea0873-04ce-4ccf-b289-fa009922ecc4"
   },
   "outputs": [
    {
     "name": "stdout",
     "output_type": "stream",
     "text": [
      "[[3654  273  332  248   62  368   41  217  162   14   17   72   10   72\n",
      "   517]\n",
      " [ 109 4799   78  194   15  434   10   57   50    6    0   21    0   18\n",
      "   179]\n",
      " [  16   71 5553   55   31   62   17   60   48    0    0   12    4   18\n",
      "    39]\n",
      " [ 248  233  390 3521   86  344   42  108  118    9    6   73   10   79\n",
      "   696]\n",
      " [  23   88  111  102 5182   85   78   75   37   13   15   93    4  124\n",
      "    69]\n",
      " [ 266  267  118  173   29 4632   35   39   89    6    0   16    4   10\n",
      "   305]\n",
      " [ 372  226  285  456  328  338 2426  401  133   18   41  149   20  369\n",
      "   419]\n",
      " [ 310  252  329  213   96  294   69 3552  157   20   18   85   21   51\n",
      "   327]\n",
      " [  82  168  196  158   84  125   24   92 4900    2    0   62   12   42\n",
      "   146]\n",
      " [ 568  375  623  517  497  437  182  577  153  328  152  455   36  694\n",
      "   489]\n",
      " [ 436  291  626  507  562  327  254  521  123  117  489  516   50  710\n",
      "   444]\n",
      " [  22   46    7   73   65   43   21   11   13    1    0 5487    0   82\n",
      "    30]\n",
      " [ 549  498  947  771  182  679  255  473  242   24   35  135  324  175\n",
      "   791]\n",
      " [ 179  147  395  249  508  168  283  136   88   51   45  477   18 3123\n",
      "   198]\n",
      " [ 145  113  120  154   18  195   13   24   51    0    0   39    5   15\n",
      "  5072]]\n",
      "              precision    recall  f1-score   support\n",
      "\n",
      "           0       0.52      0.60      0.56      6059\n",
      "           1       0.61      0.80      0.69      5970\n",
      "           2       0.55      0.93      0.69      5986\n",
      "           3       0.48      0.59      0.53      5963\n",
      "           4       0.67      0.85      0.75      6099\n",
      "           5       0.54      0.77      0.64      5989\n",
      "           6       0.65      0.41      0.50      5981\n",
      "           7       0.56      0.61      0.59      5794\n",
      "           8       0.77      0.80      0.79      6093\n",
      "           9       0.54      0.05      0.10      6083\n",
      "          10       0.60      0.08      0.14      5973\n",
      "          11       0.71      0.93      0.81      5901\n",
      "          12       0.63      0.05      0.10      6080\n",
      "          13       0.56      0.51      0.54      6065\n",
      "          14       0.52      0.85      0.65      5964\n",
      "\n",
      "    accuracy                           0.59     90000\n",
      "   macro avg       0.59      0.59      0.54     90000\n",
      "weighted avg       0.59      0.59      0.54     90000\n",
      "\n",
      "0.5893555555555555\n"
     ]
    }
   ],
   "source": [
    "y_pred = model.predict(x_test_cv1)\n",
    "print(confusion_matrix(Test_Y,y_pred))\n",
    "print(classification_report(Test_Y,y_pred))\n",
    "print(accuracy_score(Test_Y, y_pred))"
   ]
  },
  {
   "cell_type": "markdown",
   "metadata": {},
   "source": [
    "Model no5 - Dummy  Classifier for the comparison "
   ]
  },
  {
   "cell_type": "code",
   "execution_count": 21,
   "metadata": {
    "id": "zMNr-iNnXam-"
   },
   "outputs": [],
   "source": [
    "from sklearn.dummy import DummyClassifier"
   ]
  },
  {
   "cell_type": "code",
   "execution_count": 22,
   "metadata": {
    "id": "WgyTA7TiXfFr"
   },
   "outputs": [],
   "source": [
    "dummy_clf = DummyClassifier()"
   ]
  },
  {
   "cell_type": "code",
   "execution_count": 23,
   "metadata": {
    "colab": {
     "base_uri": "https://localhost:8080/"
    },
    "id": "-NYvIu2zXfOQ",
    "outputId": "9bbc3f0d-571e-44f2-ebf0-1a346b0f1982"
   },
   "outputs": [
    {
     "name": "stderr",
     "output_type": "stream",
     "text": [
      "/usr/local/lib/python3.6/dist-packages/sklearn/dummy.py:132: FutureWarning: The default value of strategy will change from stratified to prior in 0.24.\n",
      "  \"stratified to prior in 0.24.\", FutureWarning)\n"
     ]
    }
   ],
   "source": [
    "model =  dummy_clf.fit(x_train_cv2,Train_Y)"
   ]
  },
  {
   "cell_type": "code",
   "execution_count": 24,
   "metadata": {
    "colab": {
     "base_uri": "https://localhost:8080/"
    },
    "id": "L5JXWx10XxKo",
    "outputId": "6b5d8640-1569-4f4d-b9f3-336ff1d94e86"
   },
   "outputs": [
    {
     "name": "stdout",
     "output_type": "stream",
     "text": [
      "[[373 418 411 397 413 407 421 417 378 415 406 406 397 412 388]\n",
      " [376 368 395 435 412 400 403 387 404 403 391 404 405 392 395]\n",
      " [433 437 399 357 398 388 418 376 427 385 392 397 384 391 404]\n",
      " [396 412 385 394 426 389 383 419 357 430 398 378 371 397 428]\n",
      " [417 404 364 382 411 426 421 435 431 375 394 425 407 387 420]\n",
      " [375 411 422 410 380 388 370 390 403 380 402 407 437 399 415]\n",
      " [403 404 406 376 395 418 397 409 405 372 410 425 356 422 383]\n",
      " [413 404 390 376 362 376 371 377 406 410 393 412 364 362 378]\n",
      " [399 419 421 401 389 435 398 379 436 378 409 447 422 379 381]\n",
      " [443 364 382 421 389 396 405 409 405 435 400 400 413 401 420]\n",
      " [407 391 407 391 395 418 388 406 414 380 390 392 405 380 409]\n",
      " [391 407 405 392 368 361 402 383 386 377 392 420 399 404 414]\n",
      " [414 352 411 392 412 443 412 406 405 403 449 394 400 414 373]\n",
      " [392 397 414 434 416 415 430 411 391 400 389 392 397 396 391]\n",
      " [410 396 402 403 367 378 412 397 379 429 399 421 390 397 384]]\n",
      "              precision    recall  f1-score   support\n",
      "\n",
      "           0       0.06      0.06      0.06      6059\n",
      "           1       0.06      0.06      0.06      5970\n",
      "           2       0.07      0.07      0.07      5986\n",
      "           3       0.07      0.07      0.07      5963\n",
      "           4       0.07      0.07      0.07      6099\n",
      "           5       0.06      0.06      0.06      5989\n",
      "           6       0.07      0.07      0.07      5981\n",
      "           7       0.06      0.07      0.06      5794\n",
      "           8       0.07      0.07      0.07      6093\n",
      "           9       0.07      0.07      0.07      6083\n",
      "          10       0.06      0.07      0.07      5973\n",
      "          11       0.07      0.07      0.07      5901\n",
      "          12       0.07      0.07      0.07      6080\n",
      "          13       0.07      0.07      0.07      6065\n",
      "          14       0.06      0.06      0.06      5964\n",
      "\n",
      "    accuracy                           0.07     90000\n",
      "   macro avg       0.07      0.07      0.07     90000\n",
      "weighted avg       0.07      0.07      0.07     90000\n",
      "\n",
      "0.06631111111111111\n"
     ]
    }
   ],
   "source": [
    "y_pred = model.predict(x_test_cv1)\n",
    "print(confusion_matrix(Test_Y,y_pred))\n",
    "print(classification_report(Test_Y,y_pred))\n",
    "print(accuracy_score(Test_Y, y_pred))"
   ]
  },
  {
   "cell_type": "markdown",
   "metadata": {},
   "source": [
    "save the upsampled dataset for use in Part3"
   ]
  },
  {
   "cell_type": "code",
   "execution_count": null,
   "metadata": {},
   "outputs": [],
   "source": [
    "upsampled.to_csv('upsampled.csv')"
   ]
  },
  {
   "cell_type": "markdown",
   "metadata": {},
   "source": [
    "end of Part 2 - Machine Learning"
   ]
  }
 ],
 "metadata": {
  "colab": {
   "collapsed_sections": [],
   "name": "Machine_Learning.ipynb",
   "provenance": []
  },
  "kernelspec": {
   "display_name": "Python 3",
   "language": "python",
   "name": "python3"
  },
  "language_info": {
   "codemirror_mode": {
    "name": "ipython",
    "version": 3
   },
   "file_extension": ".py",
   "mimetype": "text/x-python",
   "name": "python",
   "nbconvert_exporter": "python",
   "pygments_lexer": "ipython3",
   "version": "3.8.3"
  }
 },
 "nbformat": 4,
 "nbformat_minor": 1
}
